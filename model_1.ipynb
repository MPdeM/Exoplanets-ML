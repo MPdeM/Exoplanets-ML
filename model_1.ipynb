{
 "cells": [
  {
   "cell_type": "markdown",
   "metadata": {},
   "source": [
    "#Using SGV and deep learning models"
   ]
  },
  {
   "cell_type": "code",
   "execution_count": 67,
   "metadata": {},
   "outputs": [],
   "source": [
    "# Update sklearn to prevent version mismatches\n",
    "# !pip install sklearn --upgrade"
   ]
  },
  {
   "cell_type": "code",
   "execution_count": 68,
   "metadata": {},
   "outputs": [],
   "source": [
    "# install joblib. This will be used to save your model. \n",
    "# Restart your kernel after installing \n",
    "# !pip install joblib"
   ]
  },
  {
   "cell_type": "code",
   "execution_count": 69,
   "metadata": {},
   "outputs": [],
   "source": [
    "import pandas as pd"
   ]
  },
  {
   "cell_type": "markdown",
   "metadata": {},
   "source": [
    "# Read the CSV and Perform Basic Data Cleaning"
   ]
  },
  {
   "cell_type": "code",
   "execution_count": 70,
   "metadata": {},
   "outputs": [
    {
     "data": {
      "text/html": [
       "<div>\n",
       "<style scoped>\n",
       "    .dataframe tbody tr th:only-of-type {\n",
       "        vertical-align: middle;\n",
       "    }\n",
       "\n",
       "    .dataframe tbody tr th {\n",
       "        vertical-align: top;\n",
       "    }\n",
       "\n",
       "    .dataframe thead th {\n",
       "        text-align: right;\n",
       "    }\n",
       "</style>\n",
       "<table border=\"1\" class=\"dataframe\">\n",
       "  <thead>\n",
       "    <tr style=\"text-align: right;\">\n",
       "      <th></th>\n",
       "      <th>koi_disposition</th>\n",
       "      <th>koi_fpflag_nt</th>\n",
       "      <th>koi_fpflag_ss</th>\n",
       "      <th>koi_fpflag_co</th>\n",
       "      <th>koi_fpflag_ec</th>\n",
       "      <th>koi_period</th>\n",
       "      <th>koi_period_err1</th>\n",
       "      <th>koi_period_err2</th>\n",
       "      <th>koi_time0bk</th>\n",
       "      <th>koi_time0bk_err1</th>\n",
       "      <th>...</th>\n",
       "      <th>koi_steff_err2</th>\n",
       "      <th>koi_slogg</th>\n",
       "      <th>koi_slogg_err1</th>\n",
       "      <th>koi_slogg_err2</th>\n",
       "      <th>koi_srad</th>\n",
       "      <th>koi_srad_err1</th>\n",
       "      <th>koi_srad_err2</th>\n",
       "      <th>ra</th>\n",
       "      <th>dec</th>\n",
       "      <th>koi_kepmag</th>\n",
       "    </tr>\n",
       "  </thead>\n",
       "  <tbody>\n",
       "    <tr>\n",
       "      <th>0</th>\n",
       "      <td>CONFIRMED</td>\n",
       "      <td>0</td>\n",
       "      <td>0</td>\n",
       "      <td>0</td>\n",
       "      <td>0</td>\n",
       "      <td>54.418383</td>\n",
       "      <td>2.479000e-04</td>\n",
       "      <td>-2.479000e-04</td>\n",
       "      <td>162.513840</td>\n",
       "      <td>0.003520</td>\n",
       "      <td>...</td>\n",
       "      <td>-81</td>\n",
       "      <td>4.467</td>\n",
       "      <td>0.064</td>\n",
       "      <td>-0.096</td>\n",
       "      <td>0.927</td>\n",
       "      <td>0.105</td>\n",
       "      <td>-0.061</td>\n",
       "      <td>291.93423</td>\n",
       "      <td>48.141651</td>\n",
       "      <td>15.347</td>\n",
       "    </tr>\n",
       "    <tr>\n",
       "      <th>1</th>\n",
       "      <td>FALSE POSITIVE</td>\n",
       "      <td>0</td>\n",
       "      <td>1</td>\n",
       "      <td>0</td>\n",
       "      <td>0</td>\n",
       "      <td>19.899140</td>\n",
       "      <td>1.490000e-05</td>\n",
       "      <td>-1.490000e-05</td>\n",
       "      <td>175.850252</td>\n",
       "      <td>0.000581</td>\n",
       "      <td>...</td>\n",
       "      <td>-176</td>\n",
       "      <td>4.544</td>\n",
       "      <td>0.044</td>\n",
       "      <td>-0.176</td>\n",
       "      <td>0.868</td>\n",
       "      <td>0.233</td>\n",
       "      <td>-0.078</td>\n",
       "      <td>297.00482</td>\n",
       "      <td>48.134129</td>\n",
       "      <td>15.436</td>\n",
       "    </tr>\n",
       "    <tr>\n",
       "      <th>2</th>\n",
       "      <td>FALSE POSITIVE</td>\n",
       "      <td>0</td>\n",
       "      <td>1</td>\n",
       "      <td>0</td>\n",
       "      <td>0</td>\n",
       "      <td>1.736952</td>\n",
       "      <td>2.630000e-07</td>\n",
       "      <td>-2.630000e-07</td>\n",
       "      <td>170.307565</td>\n",
       "      <td>0.000115</td>\n",
       "      <td>...</td>\n",
       "      <td>-174</td>\n",
       "      <td>4.564</td>\n",
       "      <td>0.053</td>\n",
       "      <td>-0.168</td>\n",
       "      <td>0.791</td>\n",
       "      <td>0.201</td>\n",
       "      <td>-0.067</td>\n",
       "      <td>285.53461</td>\n",
       "      <td>48.285210</td>\n",
       "      <td>15.597</td>\n",
       "    </tr>\n",
       "    <tr>\n",
       "      <th>3</th>\n",
       "      <td>CONFIRMED</td>\n",
       "      <td>0</td>\n",
       "      <td>0</td>\n",
       "      <td>0</td>\n",
       "      <td>0</td>\n",
       "      <td>2.525592</td>\n",
       "      <td>3.760000e-06</td>\n",
       "      <td>-3.760000e-06</td>\n",
       "      <td>171.595550</td>\n",
       "      <td>0.001130</td>\n",
       "      <td>...</td>\n",
       "      <td>-211</td>\n",
       "      <td>4.438</td>\n",
       "      <td>0.070</td>\n",
       "      <td>-0.210</td>\n",
       "      <td>1.046</td>\n",
       "      <td>0.334</td>\n",
       "      <td>-0.133</td>\n",
       "      <td>288.75488</td>\n",
       "      <td>48.226200</td>\n",
       "      <td>15.509</td>\n",
       "    </tr>\n",
       "    <tr>\n",
       "      <th>4</th>\n",
       "      <td>CONFIRMED</td>\n",
       "      <td>0</td>\n",
       "      <td>0</td>\n",
       "      <td>0</td>\n",
       "      <td>0</td>\n",
       "      <td>4.134435</td>\n",
       "      <td>1.050000e-05</td>\n",
       "      <td>-1.050000e-05</td>\n",
       "      <td>172.979370</td>\n",
       "      <td>0.001900</td>\n",
       "      <td>...</td>\n",
       "      <td>-232</td>\n",
       "      <td>4.486</td>\n",
       "      <td>0.054</td>\n",
       "      <td>-0.229</td>\n",
       "      <td>0.972</td>\n",
       "      <td>0.315</td>\n",
       "      <td>-0.105</td>\n",
       "      <td>296.28613</td>\n",
       "      <td>48.224670</td>\n",
       "      <td>15.714</td>\n",
       "    </tr>\n",
       "  </tbody>\n",
       "</table>\n",
       "<p>5 rows × 41 columns</p>\n",
       "</div>"
      ],
      "text/plain": [
       "  koi_disposition  koi_fpflag_nt  koi_fpflag_ss  koi_fpflag_co  koi_fpflag_ec  \\\n",
       "0       CONFIRMED              0              0              0              0   \n",
       "1  FALSE POSITIVE              0              1              0              0   \n",
       "2  FALSE POSITIVE              0              1              0              0   \n",
       "3       CONFIRMED              0              0              0              0   \n",
       "4       CONFIRMED              0              0              0              0   \n",
       "\n",
       "   koi_period  koi_period_err1  koi_period_err2  koi_time0bk  \\\n",
       "0   54.418383     2.479000e-04    -2.479000e-04   162.513840   \n",
       "1   19.899140     1.490000e-05    -1.490000e-05   175.850252   \n",
       "2    1.736952     2.630000e-07    -2.630000e-07   170.307565   \n",
       "3    2.525592     3.760000e-06    -3.760000e-06   171.595550   \n",
       "4    4.134435     1.050000e-05    -1.050000e-05   172.979370   \n",
       "\n",
       "   koi_time0bk_err1  ...  koi_steff_err2  koi_slogg  koi_slogg_err1  \\\n",
       "0          0.003520  ...             -81      4.467           0.064   \n",
       "1          0.000581  ...            -176      4.544           0.044   \n",
       "2          0.000115  ...            -174      4.564           0.053   \n",
       "3          0.001130  ...            -211      4.438           0.070   \n",
       "4          0.001900  ...            -232      4.486           0.054   \n",
       "\n",
       "   koi_slogg_err2  koi_srad  koi_srad_err1  koi_srad_err2         ra  \\\n",
       "0          -0.096     0.927          0.105         -0.061  291.93423   \n",
       "1          -0.176     0.868          0.233         -0.078  297.00482   \n",
       "2          -0.168     0.791          0.201         -0.067  285.53461   \n",
       "3          -0.210     1.046          0.334         -0.133  288.75488   \n",
       "4          -0.229     0.972          0.315         -0.105  296.28613   \n",
       "\n",
       "         dec  koi_kepmag  \n",
       "0  48.141651      15.347  \n",
       "1  48.134129      15.436  \n",
       "2  48.285210      15.597  \n",
       "3  48.226200      15.509  \n",
       "4  48.224670      15.714  \n",
       "\n",
       "[5 rows x 41 columns]"
      ]
     },
     "execution_count": 70,
     "metadata": {},
     "output_type": "execute_result"
    }
   ],
   "source": [
    "df = pd.read_csv(\"exoplanet_data.csv\")\n",
    "# Drop the null columns where all values are null\n",
    "df = df.dropna(axis='columns', how='all')\n",
    "# Drop the null rows\n",
    "df = df.dropna()\n",
    "df.head()"
   ]
  },
  {
   "cell_type": "markdown",
   "metadata": {},
   "source": [
    "# Select your features (columns)"
   ]
  },
  {
   "cell_type": "code",
   "execution_count": 71,
   "metadata": {
    "scrolled": false
   },
   "outputs": [
    {
     "data": {
      "text/plain": [
       "Index(['koi_fpflag_nt', 'koi_fpflag_ss', 'koi_fpflag_co', 'koi_fpflag_ec',\n",
       "       'koi_period', 'koi_period_err1', 'koi_period_err2', 'koi_time0bk',\n",
       "       'koi_time0bk_err1', 'koi_time0bk_err2', 'koi_impact', 'koi_impact_err1',\n",
       "       'koi_impact_err2', 'koi_duration', 'koi_duration_err1',\n",
       "       'koi_duration_err2', 'koi_depth', 'koi_depth_err1', 'koi_depth_err2',\n",
       "       'koi_prad', 'koi_prad_err1', 'koi_prad_err2', 'koi_teq', 'koi_insol',\n",
       "       'koi_insol_err1', 'koi_insol_err2', 'koi_model_snr', 'koi_tce_plnt_num',\n",
       "       'koi_steff', 'koi_steff_err1', 'koi_steff_err2', 'koi_slogg',\n",
       "       'koi_slogg_err1', 'koi_slogg_err2', 'koi_srad', 'koi_srad_err1',\n",
       "       'koi_srad_err2', 'ra', 'dec', 'koi_kepmag'],\n",
       "      dtype='object')"
      ]
     },
     "execution_count": 71,
     "metadata": {},
     "output_type": "execute_result"
    }
   ],
   "source": [
    "# Set features. This will also be used as your x values.\n",
    "# model uses all  features to asses which ones have greater importance \n",
    "X=df.drop(\"koi_disposition\", axis=1)\n",
    "selected_features=X.columns\n",
    "selected_features"
   ]
  },
  {
   "cell_type": "code",
   "execution_count": 29,
   "metadata": {},
   "outputs": [
    {
     "data": {
      "text/plain": [
       "0            CONFIRMED\n",
       "1       False_Positive\n",
       "2       False_Positive\n",
       "3            CONFIRMED\n",
       "4            CONFIRMED\n",
       "             ...      \n",
       "6986    False_Positive\n",
       "6987    False_Positive\n",
       "6988         CANDIDATE\n",
       "6989    False_Positive\n",
       "6990    False_Positive\n",
       "Name: koi_disposition, Length: 6991, dtype: object"
      ]
     },
     "execution_count": 29,
     "metadata": {},
     "output_type": "execute_result"
    }
   ],
   "source": [
    "# Remove Space for `FALSE POSITIVE` category\n",
    "mask = df[\"koi_disposition\"] == \"FALSE POSITIVE\"\n",
    "df.loc[mask, \"koi_disposition\"] = \"False_Positive\"\n",
    "df[\"koi_disposition\"]"
   ]
  },
  {
   "cell_type": "code",
   "execution_count": 30,
   "metadata": {},
   "outputs": [
    {
     "data": {
      "text/plain": [
       "['CONFIRMED', 'False_Positive', 'CANDIDATE']"
      ]
     },
     "execution_count": 30,
     "metadata": {},
     "output_type": "execute_result"
    }
   ],
   "source": [
    "# Use `koi_disposition` for the y values\n",
    "target=df[\"koi_disposition\"]\n",
    "target_names= [\"CONFIRMED\", \"False_Positive\", \"CANDIDATE\"]\n",
    "target_names"
   ]
  },
  {
   "cell_type": "code",
   "execution_count": 31,
   "metadata": {},
   "outputs": [
    {
     "data": {
      "text/html": [
       "<div>\n",
       "<style scoped>\n",
       "    .dataframe tbody tr th:only-of-type {\n",
       "        vertical-align: middle;\n",
       "    }\n",
       "\n",
       "    .dataframe tbody tr th {\n",
       "        vertical-align: top;\n",
       "    }\n",
       "\n",
       "    .dataframe thead th {\n",
       "        text-align: right;\n",
       "    }\n",
       "</style>\n",
       "<table border=\"1\" class=\"dataframe\">\n",
       "  <thead>\n",
       "    <tr style=\"text-align: right;\">\n",
       "      <th></th>\n",
       "      <th>koi_fpflag_nt</th>\n",
       "      <th>koi_fpflag_ss</th>\n",
       "      <th>koi_fpflag_co</th>\n",
       "      <th>koi_fpflag_ec</th>\n",
       "      <th>koi_period</th>\n",
       "      <th>koi_period_err1</th>\n",
       "      <th>koi_period_err2</th>\n",
       "      <th>koi_time0bk</th>\n",
       "      <th>koi_time0bk_err1</th>\n",
       "      <th>koi_time0bk_err2</th>\n",
       "      <th>...</th>\n",
       "      <th>koi_steff_err2</th>\n",
       "      <th>koi_slogg</th>\n",
       "      <th>koi_slogg_err1</th>\n",
       "      <th>koi_slogg_err2</th>\n",
       "      <th>koi_srad</th>\n",
       "      <th>koi_srad_err1</th>\n",
       "      <th>koi_srad_err2</th>\n",
       "      <th>ra</th>\n",
       "      <th>dec</th>\n",
       "      <th>koi_kepmag</th>\n",
       "    </tr>\n",
       "  </thead>\n",
       "  <tbody>\n",
       "    <tr>\n",
       "      <th>977</th>\n",
       "      <td>0</td>\n",
       "      <td>0</td>\n",
       "      <td>0</td>\n",
       "      <td>0</td>\n",
       "      <td>77.634246</td>\n",
       "      <td>0.000060</td>\n",
       "      <td>-0.000060</td>\n",
       "      <td>417.153212</td>\n",
       "      <td>0.000517</td>\n",
       "      <td>-0.000517</td>\n",
       "      <td>...</td>\n",
       "      <td>-172</td>\n",
       "      <td>4.548</td>\n",
       "      <td>0.066</td>\n",
       "      <td>-0.039</td>\n",
       "      <td>0.755</td>\n",
       "      <td>0.054</td>\n",
       "      <td>-0.074</td>\n",
       "      <td>298.92593</td>\n",
       "      <td>43.750370</td>\n",
       "      <td>15.915</td>\n",
       "    </tr>\n",
       "    <tr>\n",
       "      <th>5836</th>\n",
       "      <td>1</td>\n",
       "      <td>0</td>\n",
       "      <td>0</td>\n",
       "      <td>0</td>\n",
       "      <td>581.072300</td>\n",
       "      <td>0.017420</td>\n",
       "      <td>-0.017420</td>\n",
       "      <td>371.024900</td>\n",
       "      <td>0.023200</td>\n",
       "      <td>-0.023200</td>\n",
       "      <td>...</td>\n",
       "      <td>-298</td>\n",
       "      <td>2.504</td>\n",
       "      <td>0.033</td>\n",
       "      <td>-0.033</td>\n",
       "      <td>16.891</td>\n",
       "      <td>0.614</td>\n",
       "      <td>-7.582</td>\n",
       "      <td>297.62296</td>\n",
       "      <td>46.753860</td>\n",
       "      <td>12.282</td>\n",
       "    </tr>\n",
       "    <tr>\n",
       "      <th>420</th>\n",
       "      <td>0</td>\n",
       "      <td>0</td>\n",
       "      <td>0</td>\n",
       "      <td>0</td>\n",
       "      <td>17.444860</td>\n",
       "      <td>0.000049</td>\n",
       "      <td>-0.000049</td>\n",
       "      <td>141.680200</td>\n",
       "      <td>0.002320</td>\n",
       "      <td>-0.002320</td>\n",
       "      <td>...</td>\n",
       "      <td>-166</td>\n",
       "      <td>4.413</td>\n",
       "      <td>0.120</td>\n",
       "      <td>-0.180</td>\n",
       "      <td>0.966</td>\n",
       "      <td>0.261</td>\n",
       "      <td>-0.141</td>\n",
       "      <td>294.84384</td>\n",
       "      <td>44.077679</td>\n",
       "      <td>15.007</td>\n",
       "    </tr>\n",
       "    <tr>\n",
       "      <th>6423</th>\n",
       "      <td>0</td>\n",
       "      <td>0</td>\n",
       "      <td>0</td>\n",
       "      <td>0</td>\n",
       "      <td>5.606820</td>\n",
       "      <td>0.000058</td>\n",
       "      <td>-0.000058</td>\n",
       "      <td>135.844660</td>\n",
       "      <td>0.008980</td>\n",
       "      <td>-0.008980</td>\n",
       "      <td>...</td>\n",
       "      <td>-169</td>\n",
       "      <td>4.553</td>\n",
       "      <td>0.040</td>\n",
       "      <td>-0.160</td>\n",
       "      <td>0.853</td>\n",
       "      <td>0.193</td>\n",
       "      <td>-0.069</td>\n",
       "      <td>294.73962</td>\n",
       "      <td>50.566841</td>\n",
       "      <td>15.289</td>\n",
       "    </tr>\n",
       "    <tr>\n",
       "      <th>406</th>\n",
       "      <td>0</td>\n",
       "      <td>0</td>\n",
       "      <td>0</td>\n",
       "      <td>0</td>\n",
       "      <td>17.317117</td>\n",
       "      <td>0.000047</td>\n",
       "      <td>-0.000047</td>\n",
       "      <td>142.360940</td>\n",
       "      <td>0.002200</td>\n",
       "      <td>-0.002200</td>\n",
       "      <td>...</td>\n",
       "      <td>-164</td>\n",
       "      <td>4.753</td>\n",
       "      <td>0.042</td>\n",
       "      <td>-0.024</td>\n",
       "      <td>0.502</td>\n",
       "      <td>0.023</td>\n",
       "      <td>-0.029</td>\n",
       "      <td>299.89722</td>\n",
       "      <td>43.903912</td>\n",
       "      <td>15.759</td>\n",
       "    </tr>\n",
       "  </tbody>\n",
       "</table>\n",
       "<p>5 rows × 40 columns</p>\n",
       "</div>"
      ],
      "text/plain": [
       "      koi_fpflag_nt  koi_fpflag_ss  koi_fpflag_co  koi_fpflag_ec  koi_period  \\\n",
       "977               0              0              0              0   77.634246   \n",
       "5836              1              0              0              0  581.072300   \n",
       "420               0              0              0              0   17.444860   \n",
       "6423              0              0              0              0    5.606820   \n",
       "406               0              0              0              0   17.317117   \n",
       "\n",
       "      koi_period_err1  koi_period_err2  koi_time0bk  koi_time0bk_err1  \\\n",
       "977          0.000060        -0.000060   417.153212          0.000517   \n",
       "5836         0.017420        -0.017420   371.024900          0.023200   \n",
       "420          0.000049        -0.000049   141.680200          0.002320   \n",
       "6423         0.000058        -0.000058   135.844660          0.008980   \n",
       "406          0.000047        -0.000047   142.360940          0.002200   \n",
       "\n",
       "      koi_time0bk_err2  ...  koi_steff_err2  koi_slogg  koi_slogg_err1  \\\n",
       "977          -0.000517  ...            -172      4.548           0.066   \n",
       "5836         -0.023200  ...            -298      2.504           0.033   \n",
       "420          -0.002320  ...            -166      4.413           0.120   \n",
       "6423         -0.008980  ...            -169      4.553           0.040   \n",
       "406          -0.002200  ...            -164      4.753           0.042   \n",
       "\n",
       "      koi_slogg_err2  koi_srad  koi_srad_err1  koi_srad_err2         ra  \\\n",
       "977           -0.039     0.755          0.054         -0.074  298.92593   \n",
       "5836          -0.033    16.891          0.614         -7.582  297.62296   \n",
       "420           -0.180     0.966          0.261         -0.141  294.84384   \n",
       "6423          -0.160     0.853          0.193         -0.069  294.73962   \n",
       "406           -0.024     0.502          0.023         -0.029  299.89722   \n",
       "\n",
       "            dec  koi_kepmag  \n",
       "977   43.750370      15.915  \n",
       "5836  46.753860      12.282  \n",
       "420   44.077679      15.007  \n",
       "6423  50.566841      15.289  \n",
       "406   43.903912      15.759  \n",
       "\n",
       "[5 rows x 40 columns]"
      ]
     },
     "execution_count": 31,
     "metadata": {},
     "output_type": "execute_result"
    }
   ],
   "source": [
    "# Create a Train Test Split\n",
    "\n",
    "from sklearn.model_selection import train_test_split\n",
    "\n",
    "X_train, X_test, y_train, y_test = train_test_split(\n",
    "    X, target, random_state=580580, stratify = target)\n",
    "\n",
    "X_train.head()"
   ]
  },
  {
   "cell_type": "markdown",
   "metadata": {},
   "source": [
    "# Pre-processing\n",
    "\n",
    "Scale the data using the MinMaxScaler and perform some feature selection"
   ]
  },
  {
   "cell_type": "code",
   "execution_count": 32,
   "metadata": {},
   "outputs": [],
   "source": [
    "# Scale the data using the MinMaxScaler and perform some feature selection\n",
    "from sklearn.preprocessing import LabelEncoder, MinMaxScaler\n",
    "from tensorflow.keras.utils import to_categorical\n",
    "\n",
    "# Scale your data\n",
    "X_scaler = MinMaxScaler().fit(X_train)\n",
    "X_train_scaled = X_scaler.transform(X_train)\n",
    "X_test_scaled = X_scaler.transform(X_test)"
   ]
  },
  {
   "cell_type": "code",
   "execution_count": 33,
   "metadata": {},
   "outputs": [],
   "source": [
    "# Step 1: Label-encode data set\n",
    "label_encoder = LabelEncoder()\n",
    "label_encoder.fit(y_train)\n",
    "encoded_y_train = label_encoder.transform(y_train)\n",
    "encoded_y_test = label_encoder.transform(y_test)"
   ]
  },
  {
   "cell_type": "code",
   "execution_count": 34,
   "metadata": {},
   "outputs": [],
   "source": [
    "# Hyperparameter Tuning¶\n",
    "# Use GridSearchCV to tune the model's parameters\n",
    "# Create the SVC Model\n",
    "from sklearn.svm import SVC \n",
    "model = SVC(kernel='linear')"
   ]
  },
  {
   "cell_type": "code",
   "execution_count": 35,
   "metadata": {},
   "outputs": [],
   "source": [
    "# Create the GridSearch estimator along with a parameter object containing the values to adjust\n",
    "from sklearn.model_selection import GridSearchCV\n",
    "param_grid = {'C': [5, 10, 50, 100],\n",
    "              'gamma': [0.00001, 0.00005, 0.0001]}\n",
    "grid = GridSearchCV(model, param_grid, verbose=3)"
   ]
  },
  {
   "cell_type": "code",
   "execution_count": 36,
   "metadata": {
    "scrolled": true
   },
   "outputs": [
    {
     "name": "stdout",
     "output_type": "stream",
     "text": [
      "Fitting 5 folds for each of 12 candidates, totalling 60 fits\n",
      "[CV] C=5, gamma=1e-05 ................................................\n"
     ]
    },
    {
     "name": "stderr",
     "output_type": "stream",
     "text": [
      "[Parallel(n_jobs=1)]: Using backend SequentialBackend with 1 concurrent workers.\n"
     ]
    },
    {
     "name": "stdout",
     "output_type": "stream",
     "text": [
      "[CV] .................... C=5, gamma=1e-05, score=0.863, total=   0.4s\n",
      "[CV] C=5, gamma=1e-05 ................................................\n"
     ]
    },
    {
     "name": "stderr",
     "output_type": "stream",
     "text": [
      "[Parallel(n_jobs=1)]: Done   1 out of   1 | elapsed:    0.3s remaining:    0.0s\n"
     ]
    },
    {
     "name": "stdout",
     "output_type": "stream",
     "text": [
      "[CV] .................... C=5, gamma=1e-05, score=0.858, total=   0.4s\n",
      "[CV] C=5, gamma=1e-05 ................................................\n"
     ]
    },
    {
     "name": "stderr",
     "output_type": "stream",
     "text": [
      "[Parallel(n_jobs=1)]: Done   2 out of   2 | elapsed:    0.7s remaining:    0.0s\n"
     ]
    },
    {
     "name": "stdout",
     "output_type": "stream",
     "text": [
      "[CV] .................... C=5, gamma=1e-05, score=0.846, total=   0.4s\n",
      "[CV] C=5, gamma=1e-05 ................................................\n",
      "[CV] .................... C=5, gamma=1e-05, score=0.855, total=   0.4s\n",
      "[CV] C=5, gamma=1e-05 ................................................\n",
      "[CV] .................... C=5, gamma=1e-05, score=0.875, total=   0.4s\n",
      "[CV] C=5, gamma=5e-05 ................................................\n",
      "[CV] .................... C=5, gamma=5e-05, score=0.863, total=   0.4s\n",
      "[CV] C=5, gamma=5e-05 ................................................\n",
      "[CV] .................... C=5, gamma=5e-05, score=0.858, total=   0.4s\n",
      "[CV] C=5, gamma=5e-05 ................................................\n",
      "[CV] .................... C=5, gamma=5e-05, score=0.846, total=   0.4s\n",
      "[CV] C=5, gamma=5e-05 ................................................\n",
      "[CV] .................... C=5, gamma=5e-05, score=0.855, total=   0.4s\n",
      "[CV] C=5, gamma=5e-05 ................................................\n",
      "[CV] .................... C=5, gamma=5e-05, score=0.875, total=   0.4s\n",
      "[CV] C=5, gamma=0.0001 ...............................................\n",
      "[CV] ................... C=5, gamma=0.0001, score=0.863, total=   0.4s\n",
      "[CV] C=5, gamma=0.0001 ...............................................\n",
      "[CV] ................... C=5, gamma=0.0001, score=0.858, total=   0.4s\n",
      "[CV] C=5, gamma=0.0001 ...............................................\n",
      "[CV] ................... C=5, gamma=0.0001, score=0.846, total=   0.4s\n",
      "[CV] C=5, gamma=0.0001 ...............................................\n",
      "[CV] ................... C=5, gamma=0.0001, score=0.855, total=   0.4s\n",
      "[CV] C=5, gamma=0.0001 ...............................................\n",
      "[CV] ................... C=5, gamma=0.0001, score=0.875, total=   0.4s\n",
      "[CV] C=10, gamma=1e-05 ...............................................\n",
      "[CV] ................... C=10, gamma=1e-05, score=0.874, total=   0.4s\n",
      "[CV] C=10, gamma=1e-05 ...............................................\n",
      "[CV] ................... C=10, gamma=1e-05, score=0.867, total=   0.4s\n",
      "[CV] C=10, gamma=1e-05 ...............................................\n",
      "[CV] ................... C=10, gamma=1e-05, score=0.850, total=   0.4s\n",
      "[CV] C=10, gamma=1e-05 ...............................................\n",
      "[CV] ................... C=10, gamma=1e-05, score=0.867, total=   0.4s\n",
      "[CV] C=10, gamma=1e-05 ...............................................\n",
      "[CV] ................... C=10, gamma=1e-05, score=0.875, total=   0.4s\n",
      "[CV] C=10, gamma=5e-05 ...............................................\n",
      "[CV] ................... C=10, gamma=5e-05, score=0.874, total=   0.4s\n",
      "[CV] C=10, gamma=5e-05 ...............................................\n",
      "[CV] ................... C=10, gamma=5e-05, score=0.867, total=   0.4s\n",
      "[CV] C=10, gamma=5e-05 ...............................................\n",
      "[CV] ................... C=10, gamma=5e-05, score=0.850, total=   0.4s\n",
      "[CV] C=10, gamma=5e-05 ...............................................\n",
      "[CV] ................... C=10, gamma=5e-05, score=0.867, total=   0.4s\n",
      "[CV] C=10, gamma=5e-05 ...............................................\n",
      "[CV] ................... C=10, gamma=5e-05, score=0.875, total=   0.4s\n",
      "[CV] C=10, gamma=0.0001 ..............................................\n",
      "[CV] .................. C=10, gamma=0.0001, score=0.874, total=   0.4s\n",
      "[CV] C=10, gamma=0.0001 ..............................................\n",
      "[CV] .................. C=10, gamma=0.0001, score=0.867, total=   0.4s\n",
      "[CV] C=10, gamma=0.0001 ..............................................\n",
      "[CV] .................. C=10, gamma=0.0001, score=0.850, total=   0.4s\n",
      "[CV] C=10, gamma=0.0001 ..............................................\n",
      "[CV] .................. C=10, gamma=0.0001, score=0.867, total=   0.4s\n",
      "[CV] C=10, gamma=0.0001 ..............................................\n",
      "[CV] .................. C=10, gamma=0.0001, score=0.875, total=   0.4s\n",
      "[CV] C=50, gamma=1e-05 ...............................................\n",
      "[CV] ................... C=50, gamma=1e-05, score=0.887, total=   0.4s\n",
      "[CV] C=50, gamma=1e-05 ...............................................\n",
      "[CV] ................... C=50, gamma=1e-05, score=0.868, total=   0.5s\n",
      "[CV] C=50, gamma=1e-05 ...............................................\n",
      "[CV] ................... C=50, gamma=1e-05, score=0.876, total=   0.4s\n",
      "[CV] C=50, gamma=1e-05 ...............................................\n",
      "[CV] ................... C=50, gamma=1e-05, score=0.866, total=   0.5s\n",
      "[CV] C=50, gamma=1e-05 ...............................................\n",
      "[CV] ................... C=50, gamma=1e-05, score=0.885, total=   0.4s\n",
      "[CV] C=50, gamma=5e-05 ...............................................\n",
      "[CV] ................... C=50, gamma=5e-05, score=0.887, total=   0.4s\n",
      "[CV] C=50, gamma=5e-05 ...............................................\n",
      "[CV] ................... C=50, gamma=5e-05, score=0.868, total=   0.5s\n",
      "[CV] C=50, gamma=5e-05 ...............................................\n",
      "[CV] ................... C=50, gamma=5e-05, score=0.876, total=   0.4s\n",
      "[CV] C=50, gamma=5e-05 ...............................................\n",
      "[CV] ................... C=50, gamma=5e-05, score=0.866, total=   0.5s\n",
      "[CV] C=50, gamma=5e-05 ...............................................\n",
      "[CV] ................... C=50, gamma=5e-05, score=0.885, total=   0.4s\n",
      "[CV] C=50, gamma=0.0001 ..............................................\n",
      "[CV] .................. C=50, gamma=0.0001, score=0.887, total=   0.4s\n",
      "[CV] C=50, gamma=0.0001 ..............................................\n",
      "[CV] .................. C=50, gamma=0.0001, score=0.868, total=   0.4s\n",
      "[CV] C=50, gamma=0.0001 ..............................................\n",
      "[CV] .................. C=50, gamma=0.0001, score=0.876, total=   0.4s\n",
      "[CV] C=50, gamma=0.0001 ..............................................\n",
      "[CV] .................. C=50, gamma=0.0001, score=0.866, total=   0.5s\n",
      "[CV] C=50, gamma=0.0001 ..............................................\n",
      "[CV] .................. C=50, gamma=0.0001, score=0.885, total=   0.4s\n",
      "[CV] C=100, gamma=1e-05 ..............................................\n",
      "[CV] .................. C=100, gamma=1e-05, score=0.893, total=   0.5s\n",
      "[CV] C=100, gamma=1e-05 ..............................................\n",
      "[CV] .................. C=100, gamma=1e-05, score=0.875, total=   0.6s\n",
      "[CV] C=100, gamma=1e-05 ..............................................\n",
      "[CV] .................. C=100, gamma=1e-05, score=0.884, total=   1.0s\n",
      "[CV] C=100, gamma=1e-05 ..............................................\n",
      "[CV] .................. C=100, gamma=1e-05, score=0.865, total=   0.6s\n",
      "[CV] C=100, gamma=1e-05 ..............................................\n",
      "[CV] .................. C=100, gamma=1e-05, score=0.887, total=   0.5s\n",
      "[CV] C=100, gamma=5e-05 ..............................................\n",
      "[CV] .................. C=100, gamma=5e-05, score=0.893, total=   0.7s\n",
      "[CV] C=100, gamma=5e-05 ..............................................\n",
      "[CV] .................. C=100, gamma=5e-05, score=0.875, total=   0.7s\n",
      "[CV] C=100, gamma=5e-05 ..............................................\n",
      "[CV] .................. C=100, gamma=5e-05, score=0.884, total=   0.8s\n",
      "[CV] C=100, gamma=5e-05 ..............................................\n",
      "[CV] .................. C=100, gamma=5e-05, score=0.865, total=   0.6s\n",
      "[CV] C=100, gamma=5e-05 ..............................................\n",
      "[CV] .................. C=100, gamma=5e-05, score=0.887, total=   0.6s\n",
      "[CV] C=100, gamma=0.0001 .............................................\n",
      "[CV] ................. C=100, gamma=0.0001, score=0.893, total=   0.6s\n",
      "[CV] C=100, gamma=0.0001 .............................................\n",
      "[CV] ................. C=100, gamma=0.0001, score=0.875, total=   0.6s\n",
      "[CV] C=100, gamma=0.0001 .............................................\n",
      "[CV] ................. C=100, gamma=0.0001, score=0.884, total=   0.8s\n",
      "[CV] C=100, gamma=0.0001 .............................................\n",
      "[CV] ................. C=100, gamma=0.0001, score=0.865, total=   0.6s\n",
      "[CV] C=100, gamma=0.0001 .............................................\n",
      "[CV] ................. C=100, gamma=0.0001, score=0.887, total=   0.5s\n"
     ]
    },
    {
     "name": "stderr",
     "output_type": "stream",
     "text": [
      "[Parallel(n_jobs=1)]: Done  60 out of  60 | elapsed:   27.9s finished\n"
     ]
    },
    {
     "data": {
      "text/plain": [
       "GridSearchCV(cv=None, error_score=nan,\n",
       "             estimator=SVC(C=1.0, break_ties=False, cache_size=200,\n",
       "                           class_weight=None, coef0=0.0,\n",
       "                           decision_function_shape='ovr', degree=3,\n",
       "                           gamma='scale', kernel='linear', max_iter=-1,\n",
       "                           probability=False, random_state=None, shrinking=True,\n",
       "                           tol=0.001, verbose=False),\n",
       "             iid='deprecated', n_jobs=None,\n",
       "             param_grid={'C': [5, 10, 50, 100],\n",
       "                         'gamma': [1e-05, 5e-05, 0.0001]},\n",
       "             pre_dispatch='2*n_jobs', refit=True, return_train_score=False,\n",
       "             scoring=None, verbose=3)"
      ]
     },
     "execution_count": 36,
     "metadata": {},
     "output_type": "execute_result"
    }
   ],
   "source": [
    "# Fit the model using the grid search estimator. \n",
    "# This will take the SVC model and try each combination of parameters\n",
    "\n",
    "grid.fit(X_train_scaled, encoded_y_train)"
   ]
  },
  {
   "cell_type": "code",
   "execution_count": 37,
   "metadata": {},
   "outputs": [
    {
     "name": "stdout",
     "output_type": "stream",
     "text": [
      "{'C': 100, 'gamma': 1e-05}\n"
     ]
    }
   ],
   "source": [
    "# List the best parameters for this dataset\n",
    "print(grid.best_params_)"
   ]
  },
  {
   "cell_type": "code",
   "execution_count": 38,
   "metadata": {},
   "outputs": [
    {
     "name": "stdout",
     "output_type": "stream",
     "text": [
      "0.8809824332879732\n"
     ]
    }
   ],
   "source": [
    "# List the best score\n",
    "AcuracySVG = grid.best_score_\n",
    "print(grid.best_score_)"
   ]
  },
  {
   "cell_type": "code",
   "execution_count": 16,
   "metadata": {},
   "outputs": [],
   "source": [
    "# Predictions are made after saving and loading the model\n",
    "# Make predictions with the hypertuned model \n",
    "# predictions = grid.predict(X_test_scaled)"
   ]
  },
  {
   "cell_type": "code",
   "execution_count": 17,
   "metadata": {},
   "outputs": [
    {
     "name": "stdout",
     "output_type": "stream",
     "text": [
      "                precision    recall  f1-score   support\n",
      "\n",
      "     CONFIRMED       0.85      0.70      0.77       422\n",
      "False_Positive       0.76      0.86      0.81       450\n",
      "     CANDIDATE       0.98      1.00      0.99       876\n",
      "\n",
      "      accuracy                           0.89      1748\n",
      "     macro avg       0.86      0.85      0.85      1748\n",
      "  weighted avg       0.89      0.89      0.89      1748\n",
      "\n"
     ]
    }
   ],
   "source": [
    "# Calculate classification report\n",
    "# from sklearn.metrics import classification_report\n",
    "# print(classification_report(encoded_y_test, predictions,\n",
    "#                             target_names= [\"CONFIRMED\", \"False_Positive\", \"CANDIDATE\"]))"
   ]
  },
  {
   "cell_type": "code",
   "execution_count": 18,
   "metadata": {
    "scrolled": true
   },
   "outputs": [],
   "source": [
    "# print(f\"Training Data Score: {grid.best_score_(X_train_scaled, encoded_y_test)}\")\n",
    "# print(f\"Testing Data Score: {grid.best_score_(X_test_scaled, encoded_y_train)}\")"
   ]
  },
  {
   "cell_type": "markdown",
   "metadata": {},
   "source": [
    "# Save the Model"
   ]
  },
  {
   "cell_type": "code",
   "execution_count": 39,
   "metadata": {},
   "outputs": [
    {
     "data": {
      "text/plain": [
       "['SVGMarina.sav']"
      ]
     },
     "execution_count": 39,
     "metadata": {},
     "output_type": "execute_result"
    }
   ],
   "source": [
    "# save the model\n",
    "from sklearn.externals import joblib\n",
    "# import joblib\n",
    "filename = 'SVGMarina.sav'\n",
    "joblib.dump(grid, filename)"
   ]
  },
  {
   "cell_type": "code",
   "execution_count": 40,
   "metadata": {
    "scrolled": true
   },
   "outputs": [],
   "source": [
    "# load the model \n",
    "loaded_model= joblib.load(filename)\n",
    "predictions = loaded_model.predict(X_test_scaled)"
   ]
  },
  {
   "cell_type": "code",
   "execution_count": 41,
   "metadata": {},
   "outputs": [
    {
     "name": "stdout",
     "output_type": "stream",
     "text": [
      "                precision    recall  f1-score   support\n",
      "\n",
      "     CONFIRMED       0.85      0.70      0.77       422\n",
      "False_Positive       0.76      0.86      0.81       450\n",
      "     CANDIDATE       0.98      1.00      0.99       876\n",
      "\n",
      "      accuracy                           0.89      1748\n",
      "     macro avg       0.86      0.85      0.85      1748\n",
      "  weighted avg       0.89      0.89      0.89      1748\n",
      "\n"
     ]
    }
   ],
   "source": [
    "# Calculate classification report\n",
    "from sklearn.metrics import classification_report\n",
    "print(classification_report(encoded_y_test, predictions,\n",
    "                            target_names= [\"CONFIRMED\", \"False_Positive\", \"CANDIDATE\"]))"
   ]
  },
  {
   "cell_type": "markdown",
   "metadata": {},
   "source": [
    "# Modify and Select Features with grid search estimator"
   ]
  },
  {
   "cell_type": "code",
   "execution_count": 59,
   "metadata": {},
   "outputs": [
    {
     "data": {
      "text/plain": [
       "<matplotlib.axes._subplots.AxesSubplot at 0x192cd14d048>"
      ]
     },
     "execution_count": 59,
     "metadata": {},
     "output_type": "execute_result"
    },
    {
     "data": {
      "image/png": "[encoded data removed]",
      "text/plain": [
       "<Figure size 432x288 with 1 Axes>"
      ]
     },
     "metadata": {
      "needs_background": "light"
     },
     "output_type": "display_data"
    }
   ],
   "source": [
    "# Select features\n",
    "# plot the 10 largest coeficients for estimation of the three classes in targe \n",
    "pd.Series(abs(grid.best_estimator_.coef_[0]), index=X.columns).nlargest(10).plot(kind='barh')"
   ]
  },
  {
   "cell_type": "code",
   "execution_count": 60,
   "metadata": {},
   "outputs": [
    {
     "data": {
      "text/plain": [
       "<matplotlib.axes._subplots.AxesSubplot at 0x192cd6b8ba8>"
      ]
     },
     "execution_count": 60,
     "metadata": {},
     "output_type": "execute_result"
    },
    {
     "data": {
      "image/png": "[encoded data removed]",
      "text/plain": [
       "<Figure size 432x288 with 1 Axes>"
      ]
     },
     "metadata": {
      "needs_background": "light"
     },
     "output_type": "display_data"
    }
   ],
   "source": [
    "pd.Series(abs(grid.best_estimator_.coef_[1]), index=X.columns).nlargest(10).plot(kind='barh')"
   ]
  },
  {
   "cell_type": "code",
   "execution_count": 61,
   "metadata": {},
   "outputs": [
    {
     "data": {
      "text/plain": [
       "<matplotlib.axes._subplots.AxesSubplot at 0x192cd14d320>"
      ]
     },
     "execution_count": 61,
     "metadata": {},
     "output_type": "execute_result"
    },
    {
     "data": {
      "image/png": "[encoded data removed]",
      "text/plain": [
       "<Figure size 432x288 with 1 Axes>"
      ]
     },
     "metadata": {
      "needs_background": "light"
     },
     "output_type": "display_data"
    }
   ],
   "source": [
    "pd.Series(abs(grid.best_estimator_.coef_[2]), index=X.columns).nlargest(10).plot(kind='barh')"
   ]
  },
  {
   "cell_type": "code",
   "execution_count": 73,
   "metadata": {},
   "outputs": [],
   "source": [
    "#  Select the features that are included in the three classes\n",
    "selected_newfeatures =[\"koi_period_err1\", \"koi_period_err2\", \"koi_depth\",\n",
    "\"koi_fpflag_nt\", \"koi_fpflag_ss\", \"koi_fpflag_co\", \"koi_fpflag_ec\", \"koi_duration\", \"koi_impact\",\"koi_impact_err2\"]\n",
    "X_new= X [selected_newfeatures]"
   ]
  },
  {
   "cell_type": "code",
   "execution_count": 74,
   "metadata": {},
   "outputs": [],
   "source": [
    "# Create a Train Test Split\n",
    "X_train, X_test, y_train, y_test = train_test_split(\n",
    "    X, target, random_state=580580, stratify = target)"
   ]
  },
  {
   "cell_type": "code",
   "execution_count": 75,
   "metadata": {},
   "outputs": [],
   "source": [
    "# Scale your data\n",
    "X_scaler = MinMaxScaler().fit(X_train)\n",
    "X_train_scaled = X_scaler.transform(X_train)\n",
    "X_test_scaled = X_scaler.transform(X_test)"
   ]
  },
  {
   "cell_type": "code",
   "execution_count": 76,
   "metadata": {},
   "outputs": [],
   "source": [
    "# Step 1: Label-encode data set\n",
    "label_encoder = LabelEncoder()\n",
    "label_encoder.fit(y_train)\n",
    "encoded_y_train = label_encoder.transform(y_train)\n",
    "encoded_y_test = label_encoder.transform(y_test)"
   ]
  },
  {
   "cell_type": "code",
   "execution_count": 85,
   "metadata": {},
   "outputs": [],
   "source": [
    "# Hyperparameter Tuning¶\n",
    "# Use GridSearchCV to tune the model's parameters\n",
    "# Create the SVC Model\n",
    "from sklearn.svm import SVC \n",
    "model = SVC(kernel='linear')"
   ]
  },
  {
   "cell_type": "code",
   "execution_count": 86,
   "metadata": {},
   "outputs": [],
   "source": [
    "# Create the GridSearch estimator along with a parameter object containing the values to adjust\n",
    "from sklearn.model_selection import GridSearchCV\n",
    "param_grid = {'C': [ 100,500],\n",
    "              'gamma': [0.000001, 0.000005, 0.000001]}\n",
    "grid = GridSearchCV(model, param_grid, verbose=3)"
   ]
  },
  {
   "cell_type": "code",
   "execution_count": 87,
   "metadata": {
    "scrolled": true
   },
   "outputs": [
    {
     "name": "stdout",
     "output_type": "stream",
     "text": [
      "Fitting 5 folds for each of 6 candidates, totalling 30 fits\n",
      "[CV] C=100, gamma=1e-06 ..............................................\n"
     ]
    },
    {
     "name": "stderr",
     "output_type": "stream",
     "text": [
      "[Parallel(n_jobs=1)]: Using backend SequentialBackend with 1 concurrent workers.\n"
     ]
    },
    {
     "name": "stdout",
     "output_type": "stream",
     "text": [
      "[CV] .................. C=100, gamma=1e-06, score=0.893, total=   1.0s\n",
      "[CV] C=100, gamma=1e-06 ..............................................\n"
     ]
    },
    {
     "name": "stderr",
     "output_type": "stream",
     "text": [
      "[Parallel(n_jobs=1)]: Done   1 out of   1 | elapsed:    0.9s remaining:    0.0s\n"
     ]
    },
    {
     "name": "stdout",
     "output_type": "stream",
     "text": [
      "[CV] .................. C=100, gamma=1e-06, score=0.875, total=   1.1s\n",
      "[CV] C=100, gamma=1e-06 ..............................................\n"
     ]
    },
    {
     "name": "stderr",
     "output_type": "stream",
     "text": [
      "[Parallel(n_jobs=1)]: Done   2 out of   2 | elapsed:    1.9s remaining:    0.0s\n"
     ]
    },
    {
     "name": "stdout",
     "output_type": "stream",
     "text": [
      "[CV] .................. C=100, gamma=1e-06, score=0.884, total=   1.3s\n",
      "[CV] C=100, gamma=1e-06 ..............................................\n",
      "[CV] .................. C=100, gamma=1e-06, score=0.865, total=   1.0s\n",
      "[CV] C=100, gamma=1e-06 ..............................................\n",
      "[CV] .................. C=100, gamma=1e-06, score=0.887, total=   1.1s\n",
      "[CV] C=100, gamma=5e-06 ..............................................\n",
      "[CV] .................. C=100, gamma=5e-06, score=0.893, total=   1.1s\n",
      "[CV] C=100, gamma=5e-06 ..............................................\n",
      "[CV] .................. C=100, gamma=5e-06, score=0.875, total=   1.1s\n",
      "[CV] C=100, gamma=5e-06 ..............................................\n",
      "[CV] .................. C=100, gamma=5e-06, score=0.884, total=   1.4s\n",
      "[CV] C=100, gamma=5e-06 ..............................................\n",
      "[CV] .................. C=100, gamma=5e-06, score=0.865, total=   1.2s\n",
      "[CV] C=100, gamma=5e-06 ..............................................\n",
      "[CV] .................. C=100, gamma=5e-06, score=0.887, total=   1.1s\n",
      "[CV] C=100, gamma=1e-06 ..............................................\n",
      "[CV] .................. C=100, gamma=1e-06, score=0.893, total=   1.2s\n",
      "[CV] C=100, gamma=1e-06 ..............................................\n",
      "[CV] .................. C=100, gamma=1e-06, score=0.875, total=   1.3s\n",
      "[CV] C=100, gamma=1e-06 ..............................................\n",
      "[CV] .................. C=100, gamma=1e-06, score=0.884, total=   1.8s\n",
      "[CV] C=100, gamma=1e-06 ..............................................\n",
      "[CV] .................. C=100, gamma=1e-06, score=0.865, total=   1.3s\n",
      "[CV] C=100, gamma=1e-06 ..............................................\n",
      "[CV] .................. C=100, gamma=1e-06, score=0.887, total=   1.1s\n",
      "[CV] C=500, gamma=1e-06 ..............................................\n",
      "[CV] .................. C=500, gamma=1e-06, score=0.899, total=   3.0s\n",
      "[CV] C=500, gamma=1e-06 ..............................................\n",
      "[CV] .................. C=500, gamma=1e-06, score=0.881, total=   2.9s\n",
      "[CV] C=500, gamma=1e-06 ..............................................\n",
      "[CV] .................. C=500, gamma=1e-06, score=0.888, total=   4.2s\n",
      "[CV] C=500, gamma=1e-06 ..............................................\n",
      "[CV] .................. C=500, gamma=1e-06, score=0.865, total=   3.0s\n",
      "[CV] C=500, gamma=1e-06 ..............................................\n",
      "[CV] .................. C=500, gamma=1e-06, score=0.885, total=   4.3s\n",
      "[CV] C=500, gamma=5e-06 ..............................................\n",
      "[CV] .................. C=500, gamma=5e-06, score=0.899, total=   2.4s\n",
      "[CV] C=500, gamma=5e-06 ..............................................\n",
      "[CV] .................. C=500, gamma=5e-06, score=0.881, total=   2.7s\n",
      "[CV] C=500, gamma=5e-06 ..............................................\n",
      "[CV] .................. C=500, gamma=5e-06, score=0.888, total=   4.3s\n",
      "[CV] C=500, gamma=5e-06 ..............................................\n",
      "[CV] .................. C=500, gamma=5e-06, score=0.865, total=   3.1s\n",
      "[CV] C=500, gamma=5e-06 ..............................................\n",
      "[CV] .................. C=500, gamma=5e-06, score=0.885, total=   4.8s\n",
      "[CV] C=500, gamma=1e-06 ..............................................\n",
      "[CV] .................. C=500, gamma=1e-06, score=0.899, total=   2.8s\n",
      "[CV] C=500, gamma=1e-06 ..............................................\n",
      "[CV] .................. C=500, gamma=1e-06, score=0.881, total=   2.8s\n",
      "[CV] C=500, gamma=1e-06 ..............................................\n",
      "[CV] .................. C=500, gamma=1e-06, score=0.888, total=   4.3s\n",
      "[CV] C=500, gamma=1e-06 ..............................................\n",
      "[CV] .................. C=500, gamma=1e-06, score=0.865, total=   2.8s\n",
      "[CV] C=500, gamma=1e-06 ..............................................\n",
      "[CV] .................. C=500, gamma=1e-06, score=0.885, total=   4.3s\n"
     ]
    },
    {
     "name": "stderr",
     "output_type": "stream",
     "text": [
      "[Parallel(n_jobs=1)]: Done  30 out of  30 | elapsed:  1.2min finished\n"
     ]
    },
    {
     "data": {
      "text/plain": [
       "GridSearchCV(cv=None, error_score=nan,\n",
       "             estimator=SVC(C=1.0, break_ties=False, cache_size=200,\n",
       "                           class_weight=None, coef0=0.0,\n",
       "                           decision_function_shape='ovr', degree=3,\n",
       "                           gamma='scale', kernel='linear', max_iter=-1,\n",
       "                           probability=False, random_state=None, shrinking=True,\n",
       "                           tol=0.001, verbose=False),\n",
       "             iid='deprecated', n_jobs=None,\n",
       "             param_grid={'C': [100, 500], 'gamma': [1e-06, 5e-06, 1e-06]},\n",
       "             pre_dispatch='2*n_jobs', refit=True, return_train_score=False,\n",
       "             scoring=None, verbose=3)"
      ]
     },
     "execution_count": 87,
     "metadata": {},
     "output_type": "execute_result"
    }
   ],
   "source": [
    "# Fit the model using the grid search estimator. \n",
    "# This will take the SVC model and try each combination of parameters\n",
    "\n",
    "grid.fit(X_train_scaled, encoded_y_train)"
   ]
  },
  {
   "cell_type": "code",
   "execution_count": 88,
   "metadata": {},
   "outputs": [
    {
     "name": "stdout",
     "output_type": "stream",
     "text": [
      "{'C': 500, 'gamma': 1e-06}\n"
     ]
    }
   ],
   "source": [
    "# List the best parameters for this dataset\n",
    "print(grid.best_params_)\n"
   ]
  },
  {
   "cell_type": "code",
   "execution_count": 90,
   "metadata": {
    "scrolled": true
   },
   "outputs": [
    {
     "name": "stdout",
     "output_type": "stream",
     "text": [
      "0.88384193597683\n"
     ]
    }
   ],
   "source": [
    "# List the best score\n",
    "AcuracySVGnew = grid.best_score_\n",
    "print(grid.best_score_)"
   ]
  },
  {
   "cell_type": "markdown",
   "metadata": {},
   "source": [
    "# model did NOT gain acuracy by tuning parameters or using \"rbf\""
   ]
  },
  {
   "cell_type": "code",
   "execution_count": null,
   "metadata": {},
   "outputs": [],
   "source": []
  },
  {
   "cell_type": "code",
   "execution_count": null,
   "metadata": {},
   "outputs": [],
   "source": []
  },
  {
   "cell_type": "markdown",
   "metadata": {},
   "source": [
    "# Createa Deep Learning Model"
   ]
  },
  {
   "cell_type": "code",
   "execution_count": 72,
   "metadata": {},
   "outputs": [],
   "source": [
    "# Pre-processing¶\n",
    "# Scale the data using the MinMaxScaler \n",
    "from sklearn.preprocessing import LabelEncoder, MinMaxScaler\n",
    "from tensorflow.keras.utils import to_categorical\n",
    "\n",
    "# Scale your data\n",
    "X_scaler = MinMaxScaler().fit(X_train)\n",
    "X_train_scaled = X_scaler.transform(X_train)\n",
    "X_test_scaled = X_scaler.transform(X_test)"
   ]
  },
  {
   "cell_type": "code",
   "execution_count": 73,
   "metadata": {},
   "outputs": [],
   "source": [
    "# Step 1: Label-encode data set\n",
    "label_encoder = LabelEncoder()\n",
    "label_encoder.fit(y_train)\n",
    "encoded_y_train = label_encoder.transform(y_train)\n",
    "encoded_y_test = label_encoder.transform(y_test)"
   ]
  },
  {
   "cell_type": "code",
   "execution_count": 74,
   "metadata": {},
   "outputs": [],
   "source": [
    "# Step 2: Convert encoded labels to one-hot-encoding\n",
    "y_train_categorical = to_categorical(encoded_y_train)\n",
    "y_test_categorical = to_categorical(encoded_y_test)\n"
   ]
  },
  {
   "cell_type": "code",
   "execution_count": 75,
   "metadata": {},
   "outputs": [],
   "source": [
    "from tensorflow.keras.models import Sequential\n",
    "from tensorflow.keras.layers import Dense"
   ]
  },
  {
   "cell_type": "code",
   "execution_count": 76,
   "metadata": {},
   "outputs": [],
   "source": [
    "# Create model and add layers\n",
    "deep_model = Sequential()\n",
    "deep_model.add(Dense(units=100, activation='relu', input_dim=40))\n",
    "deep_model.add(Dense(units=100, activation='relu'))\n",
    "deep_model.add(Dense(units=3, activation='softmax'))"
   ]
  },
  {
   "cell_type": "code",
   "execution_count": 77,
   "metadata": {},
   "outputs": [],
   "source": [
    "# Compile and fit the model\n",
    "deep_model.compile(optimizer='adam',\n",
    "              loss='categorical_crossentropy',\n",
    "              metrics=['accuracy'])"
   ]
  },
  {
   "cell_type": "code",
   "execution_count": 78,
   "metadata": {},
   "outputs": [
    {
     "name": "stdout",
     "output_type": "stream",
     "text": [
      "Model: \"sequential_2\"\n",
      "_________________________________________________________________\n",
      "Layer (type)                 Output Shape              Param #   \n",
      "=================================================================\n",
      "dense_6 (Dense)              (None, 100)               4100      \n",
      "_________________________________________________________________\n",
      "dense_7 (Dense)              (None, 100)               10100     \n",
      "_________________________________________________________________\n",
      "dense_8 (Dense)              (None, 3)                 303       \n",
      "=================================================================\n",
      "Total params: 14,503\n",
      "Trainable params: 14,503\n",
      "Non-trainable params: 0\n",
      "_________________________________________________________________\n"
     ]
    }
   ],
   "source": [
    "deep_model.summary()"
   ]
  },
  {
   "cell_type": "code",
   "execution_count": 79,
   "metadata": {},
   "outputs": [
    {
     "name": "stdout",
     "output_type": "stream",
     "text": [
      "Train on 5243 samples\n",
      "Epoch 1/100\n",
      "5243/5243 - 0s - loss: 0.5975 - accuracy: 0.7030\n",
      "Epoch 2/100\n",
      "5243/5243 - 0s - loss: 0.3723 - accuracy: 0.8081\n",
      "Epoch 3/100\n",
      "5243/5243 - 0s - loss: 0.3563 - accuracy: 0.8152\n",
      "Epoch 4/100\n",
      "5243/5243 - 0s - loss: 0.3492 - accuracy: 0.8173\n",
      "Epoch 5/100\n",
      "5243/5243 - 0s - loss: 0.3394 - accuracy: 0.8304\n",
      "Epoch 6/100\n",
      "5243/5243 - 0s - loss: 0.3328 - accuracy: 0.8402\n",
      "Epoch 7/100\n",
      "5243/5243 - 0s - loss: 0.3324 - accuracy: 0.8358\n",
      "Epoch 8/100\n",
      "5243/5243 - 0s - loss: 0.3250 - accuracy: 0.8449\n",
      "Epoch 9/100\n",
      "5243/5243 - 0s - loss: 0.3233 - accuracy: 0.8442\n",
      "Epoch 10/100\n",
      "5243/5243 - 0s - loss: 0.3199 - accuracy: 0.8463\n",
      "Epoch 11/100\n",
      "5243/5243 - 0s - loss: 0.3099 - accuracy: 0.8528\n",
      "Epoch 12/100\n",
      "5243/5243 - 0s - loss: 0.3081 - accuracy: 0.8573\n",
      "Epoch 13/100\n",
      "5243/5243 - 0s - loss: 0.3111 - accuracy: 0.8520\n",
      "Epoch 14/100\n",
      "5243/5243 - 0s - loss: 0.3028 - accuracy: 0.8629\n",
      "Epoch 15/100\n",
      "5243/5243 - 0s - loss: 0.2983 - accuracy: 0.8688\n",
      "Epoch 16/100\n",
      "5243/5243 - 0s - loss: 0.3029 - accuracy: 0.8591\n",
      "Epoch 17/100\n",
      "5243/5243 - 0s - loss: 0.2950 - accuracy: 0.8642\n",
      "Epoch 18/100\n",
      "5243/5243 - 0s - loss: 0.2956 - accuracy: 0.8640\n",
      "Epoch 19/100\n",
      "5243/5243 - 0s - loss: 0.2960 - accuracy: 0.8653\n",
      "Epoch 20/100\n",
      "5243/5243 - 0s - loss: 0.2893 - accuracy: 0.8682\n",
      "Epoch 21/100\n",
      "5243/5243 - 0s - loss: 0.2851 - accuracy: 0.8753\n",
      "Epoch 22/100\n",
      "5243/5243 - 0s - loss: 0.2876 - accuracy: 0.8659\n",
      "Epoch 23/100\n",
      "5243/5243 - 0s - loss: 0.2846 - accuracy: 0.8718\n",
      "Epoch 24/100\n",
      "5243/5243 - 0s - loss: 0.2897 - accuracy: 0.8674\n",
      "Epoch 25/100\n",
      "5243/5243 - 0s - loss: 0.2812 - accuracy: 0.8756\n",
      "Epoch 26/100\n",
      "5243/5243 - 0s - loss: 0.2826 - accuracy: 0.8713\n",
      "Epoch 27/100\n",
      "5243/5243 - 0s - loss: 0.2759 - accuracy: 0.8783\n",
      "Epoch 28/100\n",
      "5243/5243 - 0s - loss: 0.2809 - accuracy: 0.8768\n",
      "Epoch 29/100\n",
      "5243/5243 - 0s - loss: 0.2747 - accuracy: 0.8777\n",
      "Epoch 30/100\n",
      "5243/5243 - 0s - loss: 0.2761 - accuracy: 0.8737\n",
      "Epoch 31/100\n",
      "5243/5243 - 0s - loss: 0.2689 - accuracy: 0.8808\n",
      "Epoch 32/100\n",
      "5243/5243 - 0s - loss: 0.2762 - accuracy: 0.8768\n",
      "Epoch 33/100\n",
      "5243/5243 - 0s - loss: 0.2765 - accuracy: 0.8776\n",
      "Epoch 34/100\n",
      "5243/5243 - 0s - loss: 0.2690 - accuracy: 0.8793\n",
      "Epoch 35/100\n",
      "5243/5243 - 0s - loss: 0.2727 - accuracy: 0.8823\n",
      "Epoch 36/100\n",
      "5243/5243 - 0s - loss: 0.2764 - accuracy: 0.8777\n",
      "Epoch 37/100\n",
      "5243/5243 - 0s - loss: 0.2669 - accuracy: 0.8816\n",
      "Epoch 38/100\n",
      "5243/5243 - 0s - loss: 0.2663 - accuracy: 0.8840\n",
      "Epoch 39/100\n",
      "5243/5243 - 0s - loss: 0.2686 - accuracy: 0.8760\n",
      "Epoch 40/100\n",
      "5243/5243 - 0s - loss: 0.2657 - accuracy: 0.8817\n",
      "Epoch 41/100\n",
      "5243/5243 - 0s - loss: 0.2616 - accuracy: 0.8819\n",
      "Epoch 42/100\n",
      "5243/5243 - 0s - loss: 0.2603 - accuracy: 0.8846\n",
      "Epoch 43/100\n",
      "5243/5243 - 0s - loss: 0.2601 - accuracy: 0.8842\n",
      "Epoch 44/100\n",
      "5243/5243 - 0s - loss: 0.2612 - accuracy: 0.8821\n",
      "Epoch 45/100\n",
      "5243/5243 - 0s - loss: 0.2584 - accuracy: 0.8880\n",
      "Epoch 46/100\n",
      "5243/5243 - 0s - loss: 0.2590 - accuracy: 0.8823\n",
      "Epoch 47/100\n",
      "5243/5243 - 0s - loss: 0.2630 - accuracy: 0.8812\n",
      "Epoch 48/100\n",
      "5243/5243 - 0s - loss: 0.2611 - accuracy: 0.8816\n",
      "Epoch 49/100\n",
      "5243/5243 - 0s - loss: 0.2584 - accuracy: 0.8852\n",
      "Epoch 50/100\n",
      "5243/5243 - 0s - loss: 0.2573 - accuracy: 0.8837\n",
      "Epoch 51/100\n",
      "5243/5243 - 0s - loss: 0.2518 - accuracy: 0.8875\n",
      "Epoch 52/100\n",
      "5243/5243 - 0s - loss: 0.2499 - accuracy: 0.8865\n",
      "Epoch 53/100\n",
      "5243/5243 - 0s - loss: 0.2494 - accuracy: 0.8865\n",
      "Epoch 54/100\n",
      "5243/5243 - 0s - loss: 0.2532 - accuracy: 0.8884\n",
      "Epoch 55/100\n",
      "5243/5243 - 0s - loss: 0.2567 - accuracy: 0.8837\n",
      "Epoch 56/100\n",
      "5243/5243 - 0s - loss: 0.2530 - accuracy: 0.8863\n",
      "Epoch 57/100\n",
      "5243/5243 - 0s - loss: 0.2513 - accuracy: 0.8892\n",
      "Epoch 58/100\n",
      "5243/5243 - 0s - loss: 0.2552 - accuracy: 0.8850\n",
      "Epoch 59/100\n",
      "5243/5243 - 0s - loss: 0.2480 - accuracy: 0.8922\n",
      "Epoch 60/100\n",
      "5243/5243 - 0s - loss: 0.2494 - accuracy: 0.8856\n",
      "Epoch 61/100\n",
      "5243/5243 - 0s - loss: 0.2450 - accuracy: 0.8940\n",
      "Epoch 62/100\n",
      "5243/5243 - 0s - loss: 0.2446 - accuracy: 0.8920\n",
      "Epoch 63/100\n",
      "5243/5243 - 0s - loss: 0.2450 - accuracy: 0.8905\n",
      "Epoch 64/100\n",
      "5243/5243 - 0s - loss: 0.2457 - accuracy: 0.8934\n",
      "Epoch 65/100\n",
      "5243/5243 - 0s - loss: 0.2447 - accuracy: 0.8924\n",
      "Epoch 66/100\n",
      "5243/5243 - 0s - loss: 0.2455 - accuracy: 0.8926\n",
      "Epoch 67/100\n",
      "5243/5243 - 0s - loss: 0.2488 - accuracy: 0.8867\n",
      "Epoch 68/100\n",
      "5243/5243 - 0s - loss: 0.2414 - accuracy: 0.8953\n",
      "Epoch 69/100\n",
      "5243/5243 - 0s - loss: 0.2480 - accuracy: 0.8886\n",
      "Epoch 70/100\n",
      "5243/5243 - 0s - loss: 0.2435 - accuracy: 0.8919\n",
      "Epoch 71/100\n",
      "5243/5243 - 0s - loss: 0.2459 - accuracy: 0.8856\n",
      "Epoch 72/100\n",
      "5243/5243 - 0s - loss: 0.2395 - accuracy: 0.8947\n",
      "Epoch 73/100\n",
      "5243/5243 - 0s - loss: 0.2434 - accuracy: 0.8880\n",
      "Epoch 74/100\n",
      "5243/5243 - 0s - loss: 0.2413 - accuracy: 0.8905\n",
      "Epoch 75/100\n",
      "5243/5243 - 0s - loss: 0.2343 - accuracy: 0.8980\n",
      "Epoch 76/100\n",
      "5243/5243 - 0s - loss: 0.2371 - accuracy: 0.8957\n",
      "Epoch 77/100\n",
      "5243/5243 - 0s - loss: 0.2390 - accuracy: 0.8905\n",
      "Epoch 78/100\n",
      "5243/5243 - 0s - loss: 0.2419 - accuracy: 0.8919\n",
      "Epoch 79/100\n",
      "5243/5243 - 0s - loss: 0.2362 - accuracy: 0.8964\n",
      "Epoch 80/100\n",
      "5243/5243 - 0s - loss: 0.2321 - accuracy: 0.8945\n",
      "Epoch 81/100\n",
      "5243/5243 - 0s - loss: 0.2338 - accuracy: 0.8989\n",
      "Epoch 82/100\n",
      "5243/5243 - 0s - loss: 0.2380 - accuracy: 0.8970\n",
      "Epoch 83/100\n",
      "5243/5243 - 0s - loss: 0.2376 - accuracy: 0.8938\n",
      "Epoch 84/100\n",
      "5243/5243 - 0s - loss: 0.2350 - accuracy: 0.8964\n",
      "Epoch 85/100\n",
      "5243/5243 - 0s - loss: 0.2344 - accuracy: 0.8955\n",
      "Epoch 86/100\n",
      "5243/5243 - 0s - loss: 0.2335 - accuracy: 0.8968\n",
      "Epoch 87/100\n",
      "5243/5243 - 0s - loss: 0.2349 - accuracy: 0.8957\n",
      "Epoch 88/100\n",
      "5243/5243 - 0s - loss: 0.2312 - accuracy: 0.8968\n",
      "Epoch 89/100\n",
      "5243/5243 - 0s - loss: 0.2326 - accuracy: 0.8966\n",
      "Epoch 90/100\n",
      "5243/5243 - 0s - loss: 0.2362 - accuracy: 0.8928\n",
      "Epoch 91/100\n",
      "5243/5243 - 0s - loss: 0.2269 - accuracy: 0.8997\n",
      "Epoch 92/100\n",
      "5243/5243 - 0s - loss: 0.2290 - accuracy: 0.8983\n",
      "Epoch 93/100\n",
      "5243/5243 - 0s - loss: 0.2346 - accuracy: 0.8938\n",
      "Epoch 94/100\n",
      "5243/5243 - 0s - loss: 0.2384 - accuracy: 0.8919\n",
      "Epoch 95/100\n",
      "5243/5243 - 0s - loss: 0.2265 - accuracy: 0.9002\n",
      "Epoch 96/100\n",
      "5243/5243 - 0s - loss: 0.2325 - accuracy: 0.8955\n",
      "Epoch 97/100\n",
      "5243/5243 - 0s - loss: 0.2280 - accuracy: 0.9012\n",
      "Epoch 98/100\n",
      "5243/5243 - 0s - loss: 0.2284 - accuracy: 0.8961\n",
      "Epoch 99/100\n",
      "5243/5243 - 0s - loss: 0.2331 - accuracy: 0.8934\n",
      "Epoch 100/100\n",
      "5243/5243 - 0s - loss: 0.2300 - accuracy: 0.8976\n"
     ]
    },
    {
     "data": {
      "text/plain": [
       "<tensorflow.python.keras.callbacks.History at 0x1f121b3e898>"
      ]
     },
     "execution_count": 79,
     "metadata": {},
     "output_type": "execute_result"
    }
   ],
   "source": [
    "# train the Model\n",
    "\n",
    "deep_model.fit(\n",
    "    X_train_scaled,\n",
    "    y_train_categorical,\n",
    "    epochs=100,\n",
    "    shuffle=True,\n",
    "    verbose=2\n",
    ")"
   ]
  },
  {
   "cell_type": "code",
   "execution_count": 80,
   "metadata": {},
   "outputs": [],
   "source": [
    "# Predictions are made after saving and loading the model\n",
    "# Evaluate the model using the testing data\n",
    "# model_loss, model_accuracy = deep_model.evaluate(\n",
    "#     X_test_scaled, y_test_categorical, verbose=2)"
   ]
  },
  {
   "cell_type": "code",
   "execution_count": null,
   "metadata": {},
   "outputs": [],
   "source": []
  },
  {
   "cell_type": "markdown",
   "metadata": {},
   "source": [
    "# Save the Model"
   ]
  },
  {
   "cell_type": "code",
   "execution_count": 87,
   "metadata": {},
   "outputs": [],
   "source": [
    "# save the model\n",
    "deep_model.save('DeepLearningMarina.h5')\n"
   ]
  },
  {
   "cell_type": "code",
   "execution_count": 88,
   "metadata": {},
   "outputs": [
    {
     "name": "stdout",
     "output_type": "stream",
     "text": [
      "1748/1748 - 0s - loss: 0.2402 - accuracy: 0.9056\n"
     ]
    }
   ],
   "source": [
    "# Load the model\n",
    "from tensorflow.keras.models import load_model\n",
    "\n",
    "loaded_deep_model= load_model(filenamedl)\n",
    "\n",
    "model_loss, model_accuracy = loaded_deep_model.evaluate(\n",
    "    X_test_scaled, y_test_categorical, verbose=2)"
   ]
  },
  {
   "cell_type": "markdown",
   "metadata": {},
   "source": [
    "# Both give similar accuracy, DL seems easier to apply to the data and it does not require feature selection"
   ]
  }
 ],
 "metadata": {
  "kernel_info": {
   "name": "dev"
  },
  "kernelspec": {
   "display_name": "Python 3",
   "language": "python",
   "name": "python3"
  },
  "language_info": {
   "codemirror_mode": {
    "name": "ipython",
    "version": 3
   },
   "file_extension": ".py",
   "mimetype": "text/x-python",
   "name": "python",
   "nbconvert_exporter": "python",
   "pygments_lexer": "ipython3",
   "version": "3.7.3"
  },
  "nteract": {
   "version": "0.12.3"
  }
 },
 "nbformat": 4,
 "nbformat_minor": 2
}
